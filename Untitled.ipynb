{
 "cells": [
  {
   "cell_type": "markdown",
   "id": "878cf920",
   "metadata": {},
   "source": [
    "# Tao Te Ching\n",
    "\n",
    "## Chapter 1.\n",
    "\n",
    "Dào kě dào, fēicháng dào.\n",
    "道  可  道，  非  常   道。\n",
    "\n",
    "Tao is the essence of all the universal principles. It governs our universe. We can try to describe some principles behind a specific phenomenon regarding its time and space. However, we can not describe the essence of the whole universe in this way since the universe is so vast and the principles found by our humanbings are so limited by their existing conditions. \n",
    "\n",
    "For instance, the Newton's Three Laws of mechanics appear to be very useful in our daily life, yet fail in the extremely micro or macro universes. Who could easily believe that the time and the space don't ever exist, yet in the essence, we have only the energy in our universe?\n",
    "\n",
    "Míng kě míng, fēi cháng míng.\n",
    "名    可  名，  非   常    名。\n",
    "\n",
    "\n"
   ]
  },
  {
   "cell_type": "code",
   "execution_count": null,
   "id": "01012654",
   "metadata": {},
   "outputs": [],
   "source": []
  }
 ],
 "metadata": {
  "kernelspec": {
   "display_name": "Python 3 (ipykernel)",
   "language": "python",
   "name": "python3"
  },
  "language_info": {
   "codemirror_mode": {
    "name": "ipython",
    "version": 3
   },
   "file_extension": ".py",
   "mimetype": "text/x-python",
   "name": "python",
   "nbconvert_exporter": "python",
   "pygments_lexer": "ipython3",
   "version": "3.9.6"
  }
 },
 "nbformat": 4,
 "nbformat_minor": 5
}
