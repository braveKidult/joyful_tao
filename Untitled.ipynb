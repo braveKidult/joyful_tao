{
 "cells": [
  {
   "cell_type": "markdown",
   "id": "4323b988",
   "metadata": {},
   "source": [
    "# Tao Te Ching\n",
    "\n",
    "## Chapter 1.\n",
    "\n",
    "Tao is the essence of all the universal principles. We can try to describe some principles behind a specific phonomen. However, that is not the essence. "
   ]
  }
 ],
 "metadata": {
  "kernelspec": {
   "display_name": "Python 3 (ipykernel)",
   "language": "python",
   "name": "python3"
  },
  "language_info": {
   "codemirror_mode": {
    "name": "ipython",
    "version": 3
   },
   "file_extension": ".py",
   "mimetype": "text/x-python",
   "name": "python",
   "nbconvert_exporter": "python",
   "pygments_lexer": "ipython3",
   "version": "3.9.6"
  }
 },
 "nbformat": 4,
 "nbformat_minor": 5
}
